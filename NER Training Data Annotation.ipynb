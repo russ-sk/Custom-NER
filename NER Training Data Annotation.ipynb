{
 "cells": [
  {
   "cell_type": "markdown",
   "id": "aa561d9a",
   "metadata": {},
   "source": [
    "## Annotate your data for NER Training 📣"
   ]
  },
  {
   "cell_type": "markdown",
   "id": "3d09e373",
   "metadata": {},
   "source": [
    "#### Author: Deepak John Reji\n",
    "\n",
    "\n",
    "\n",
    "Youtube: https://youtu.be/Zi9DR4hRQrE\n",
    "\n",
    "Linkedin: https://www.linkedin.com/in/deepak-john-reji/"
   ]
  },
  {
   "cell_type": "markdown",
   "id": "fcf1540b",
   "metadata": {},
   "source": [
    "### Training data format for Spacy NER"
   ]
  },
  {
   "cell_type": "code",
   "execution_count": null,
   "id": "f32992ad",
   "metadata": {},
   "outputs": [],
   "source": [
    "train_data = [('The F15 aircraft uses a lot of fuel', {'entities': [(4, 7, 'aircraft')]}),\n",
    " ('did you see the F16 landing?', {'entities': [(16, 19, 'aircraft')]}),\n",
    " ('how many missiles can a F35 carry', {'entities': [(24, 27, 'aircraft')]}),\n",
    " ('is the F15 outdated', {'entities': [(7, 10, 'aircraft')]}),\n",
    " ('does the US still train pilots to dog fight?',\n",
    "  {'entities': [(0, 0, 'aircraft')]}),\n",
    " ('how long does it take to train a F16 pilot',\n",
    "  {'entities': [(33, 36, 'aircraft')]}),\n",
    " ('how much does a F35 cost', {'entities': [(16, 19, 'aircraft')]}),\n",
    " ('would it be possible to steal a F15', {'entities': [(32, 35, 'aircraft')]}),\n",
    " ('who manufactures the F16', {'entities': [(21, 24, 'aircraft')]}),\n",
    " ('how many countries have bought the F35',\n",
    "  {'entities': [(35, 38, 'aircraft')]}),\n",
    " ('is the F35 a waste of money', {'entities': [(7, 10, 'aircraft')]})]"
   ]
  },
  {
   "cell_type": "markdown",
   "id": "3cd05ddc",
   "metadata": {},
   "source": [
    "  "
   ]
  },
  {
   "cell_type": "markdown",
   "id": "569ce660",
   "metadata": {},
   "source": [
    "#### Step-1 : Create your annotations with the help of an external tool\n",
    "https://tecoholic.github.io/ner-annotator/"
   ]
  },
  {
   "cell_type": "markdown",
   "id": "b5ab6cff",
   "metadata": {},
   "source": [
    "#### Step-2 : Read the annotated json file"
   ]
  },
  {
   "cell_type": "code",
   "execution_count": 1,
   "id": "5a7c6c67",
   "metadata": {},
   "outputs": [],
   "source": [
    "import pandas as pd\n",
    "import json\n",
    "import os\n",
    "os.chdir(r'C:\\Users\\deepa\\Downloads')\n",
    "\n",
    "with open('annotations.json', 'r') as f:\n",
    "    data = json.load(f)"
   ]
  },
  {
   "cell_type": "code",
   "execution_count": 2,
   "id": "728e0f9e",
   "metadata": {},
   "outputs": [
    {
     "data": {
      "text/plain": [
       "{'classes': ['AIRCRAFT'],\n",
       " 'annotations': [['The F15 aircraft uses a lot of fuel\\r',\n",
       "   {'entities': [[4, 7, 'AIRCRAFT']]}],\n",
       "  ['did you see the F16 landing?\\r', {'entities': [[16, 19, 'AIRCRAFT']]}],\n",
       "  ['how many missiles can a F35 carry\\r',\n",
       "   {'entities': [[24, 27, 'AIRCRAFT']]}],\n",
       "  ['is the F15 outdated\\r', {'entities': [[7, 10, 'AIRCRAFT']]}],\n",
       "  ['does the US still train pilots to dog fight\\r', {'entities': []}],\n",
       "  ['how long does it take to train a F16 pilot\\r',\n",
       "   {'entities': [[33, 36, 'AIRCRAFT']]}],\n",
       "  ['how much does a F35 cost\\r', {'entities': [[16, 19, 'AIRCRAFT']]}],\n",
       "  ['would it be possible to steal a F15\\r',\n",
       "   {'entities': [[32, 35, 'AIRCRAFT']]}],\n",
       "  ['who manufactures the F16\\r', {'entities': [[21, 24, 'AIRCRAFT']]}],\n",
       "  ['how many countries have bought the F35\\r',\n",
       "   {'entities': [[35, 38, 'AIRCRAFT']]}],\n",
       "  ['is the F35 a waste of money', {'entities': [[7, 10, 'AIRCRAFT']]}]]}"
      ]
     },
     "execution_count": 2,
     "metadata": {},
     "output_type": "execute_result"
    }
   ],
   "source": [
    "data"
   ]
  },
  {
   "cell_type": "markdown",
   "id": "0bb87ebd",
   "metadata": {},
   "source": [
    "#### Step-3 : Run this custom code to convert to required format"
   ]
  },
  {
   "cell_type": "code",
   "execution_count": 3,
   "id": "d42a9d73",
   "metadata": {},
   "outputs": [],
   "source": [
    "entity_name = \"AIRCRAFT\"\n",
    "\n",
    "train_data = data['annotations']\n",
    "train_data = [tuple(i) for i in train_data]"
   ]
  },
  {
   "cell_type": "code",
   "execution_count": 4,
   "id": "3bc9d6e7",
   "metadata": {},
   "outputs": [
    {
     "data": {
      "text/plain": [
       "[('The F15 aircraft uses a lot of fuel\\r', {'entities': [[4, 7, 'AIRCRAFT']]}),\n",
       " ('did you see the F16 landing?\\r', {'entities': [[16, 19, 'AIRCRAFT']]}),\n",
       " ('how many missiles can a F35 carry\\r', {'entities': [[24, 27, 'AIRCRAFT']]}),\n",
       " ('is the F15 outdated\\r', {'entities': [[7, 10, 'AIRCRAFT']]}),\n",
       " ('does the US still train pilots to dog fight\\r', {'entities': []}),\n",
       " ('how long does it take to train a F16 pilot\\r',\n",
       "  {'entities': [[33, 36, 'AIRCRAFT']]}),\n",
       " ('how much does a F35 cost\\r', {'entities': [[16, 19, 'AIRCRAFT']]}),\n",
       " ('would it be possible to steal a F15\\r',\n",
       "  {'entities': [[32, 35, 'AIRCRAFT']]}),\n",
       " ('who manufactures the F16\\r', {'entities': [[21, 24, 'AIRCRAFT']]}),\n",
       " ('how many countries have bought the F35\\r',\n",
       "  {'entities': [[35, 38, 'AIRCRAFT']]}),\n",
       " ('is the F35 a waste of money', {'entities': [[7, 10, 'AIRCRAFT']]})]"
      ]
     },
     "execution_count": 4,
     "metadata": {},
     "output_type": "execute_result"
    }
   ],
   "source": [
    "train_data"
   ]
  },
  {
   "cell_type": "code",
   "execution_count": 5,
   "id": "1cc1ac67",
   "metadata": {},
   "outputs": [],
   "source": [
    "for i in train_data:\n",
    "    if i[1]['entities'] == []:\n",
    "        i[1]['entities'] = (0, 0, entity_name)\n",
    "    else:\n",
    "        i[1]['entities'][0] = tuple(i[1]['entities'][0])"
   ]
  },
  {
   "cell_type": "code",
   "execution_count": 6,
   "id": "1b85403c",
   "metadata": {},
   "outputs": [
    {
     "data": {
      "text/plain": [
       "[('The F15 aircraft uses a lot of fuel\\r', {'entities': [(4, 7, 'AIRCRAFT')]}),\n",
       " ('did you see the F16 landing?\\r', {'entities': [(16, 19, 'AIRCRAFT')]}),\n",
       " ('how many missiles can a F35 carry\\r', {'entities': [(24, 27, 'AIRCRAFT')]}),\n",
       " ('is the F15 outdated\\r', {'entities': [(7, 10, 'AIRCRAFT')]}),\n",
       " ('does the US still train pilots to dog fight\\r',\n",
       "  {'entities': (0, 0, 'AIRCRAFT')}),\n",
       " ('how long does it take to train a F16 pilot\\r',\n",
       "  {'entities': [(33, 36, 'AIRCRAFT')]}),\n",
       " ('how much does a F35 cost\\r', {'entities': [(16, 19, 'AIRCRAFT')]}),\n",
       " ('would it be possible to steal a F15\\r',\n",
       "  {'entities': [(32, 35, 'AIRCRAFT')]}),\n",
       " ('who manufactures the F16\\r', {'entities': [(21, 24, 'AIRCRAFT')]}),\n",
       " ('how many countries have bought the F35\\r',\n",
       "  {'entities': [(35, 38, 'AIRCRAFT')]}),\n",
       " ('is the F35 a waste of money', {'entities': [(7, 10, 'AIRCRAFT')]})]"
      ]
     },
     "execution_count": 6,
     "metadata": {},
     "output_type": "execute_result"
    }
   ],
   "source": [
    "train_data"
   ]
  },
  {
   "cell_type": "markdown",
   "id": "3d6841ce",
   "metadata": {},
   "source": [
    "#### Step-4 : Continue from Step-2 in this notebook \n",
    "https://github.com/dreji18/NER-Training-Spacy-3.0/blob/main/NER%20Training%20with%20Spacy%20v3%20Notebook.ipynb\n",
    "\n",
    "video tutorial for NER training: https://www.youtube.com/watch?v=9mXoGxAn6pM&t=57s"
   ]
  },
  {
   "cell_type": "markdown",
   "id": "9fca9cb0",
   "metadata": {},
   "source": [
    "## Yessss!!! we made it 😀😀😀"
   ]
  },
  {
   "attachments": {
    "download.jpeg": {
     "image/jpeg": "[encoded data removed]"
    }
   },
   "cell_type": "markdown",
   "id": "fb0386ff",
   "metadata": {},
   "source": [
    "![download.jpeg](attachment:download.jpeg)"
   ]
  },
  {
   "cell_type": "code",
   "execution_count": null,
   "id": "b70de941",
   "metadata": {},
   "outputs": [],
   "source": []
  }
 ],
 "metadata": {
  "kernelspec": {
   "display_name": "Python 3",
   "language": "python",
   "name": "python3"
  },
  "language_info": {
   "codemirror_mode": {
    "name": "ipython",
    "version": 3
   },
   "file_extension": ".py",
   "mimetype": "text/x-python",
   "name": "python",
   "nbconvert_exporter": "python",
   "pygments_lexer": "ipython3",
   "version": "3.8.13"
  }
 },
 "nbformat": 4,
 "nbformat_minor": 5
}
